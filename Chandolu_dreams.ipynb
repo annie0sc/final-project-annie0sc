{
 "cells": [
  {
   "cell_type": "markdown",
   "metadata": {},
   "source": [
    "# _Annie Samarpitha Chandolu_\n",
    "\n",
    "* The feature and question I chose to work on is __dreams__ and __Do you usually remember your dreams?__.\n",
    "* The Dataset for the features __dreams__ is: __dreams.csv__"
   ]
  },
  {
   "cell_type": "markdown",
   "metadata": {},
   "source": [
    "## Reading the dataset\n",
    "\n",
    "Finding out the features and splitting the dataset into training and testing sets, using a prediction feature to stratify."
   ]
  },
  {
   "cell_type": "code",
   "execution_count": 1,
   "metadata": {},
   "outputs": [
    {
     "name": "stdout",
     "output_type": "stream",
     "text": [
      "Index(['Unnamed: 0', 'Timestamp', 'Have you been in a plane?',\n",
      "       'Have you ever been skydiving',\n",
      "       'When you first saw the dress, what was the color?',\n",
      "       'What's a popular food you don't like?',\n",
      "       'When you look at a blue sky, do you see those swirly floaters in your vision? ',\n",
      "       'Have you ever had a car run out of gas while you were driving it? ',\n",
      "       'Name the first five animals you can think of',\n",
      "       'What's the weather like where you are right now?',\n",
      "       'Which of these can you do reasonably well?',\n",
      "       'What word can you never seem to spell on the first try? ',\n",
      "       'Do you eat condiments directly out of the fridge as a snack?',\n",
      "       'When you adjust a thermostat that was set by someone else, it's usually because you want the room to be...',\n",
      "       'What color is the shirt/dress/upper-body-clothing you're wearing right now, if any? ',\n",
      "       'Do you get colds often? ', 'Pick a number from 1 to 100',\n",
      "       'On a scale of 1 to 10, how good at spelling are you?',\n",
      "       'Do you know your Myers-Briggs type? ',\n",
      "       'Do you know your astrological sign? ',\n",
      "       'How many older siblings do you have? ',\n",
      "       'How many younger siblings do you have? ',\n",
      "       'How many twin/triplet/etc. siblings do you have? ',\n",
      "       'Do you feel sleepy a lot? ', 'Name a movie star',\n",
      "       'Do you spend a lot of time in the sun? ',\n",
      "       'Does broccoli taste bitter to you? ',\n",
      "       'Do you regularly stay awake much later than you meant to? ',\n",
      "       'Fill this text box with gibberish by mashing random keyboard keys',\n",
      "       'On a scale of 1 to 5, where 1 is terrible and 3 is average, how good a driver do you think you are? ',\n",
      "       'Do you have any food allergies? ',\n",
      "       'Have you heard thunder or seen lightning in the past year?',\n",
      "       'Which do you prefer? ', 'Pick another number from 1 to 100',\n",
      "       'When you think about stuff on the internet, where do you picture it being physically located? Even if you know it's not really how things work, is there a place you imagine websites and social media posts sitting before you look at them? If so, where is it?',\n",
      "       'Can you roll your tongue?', 'Can you pick things up with your toes? ',\n",
      "       'How old are you?', 'What color are the walls around you right now? ',\n",
      "       'What kind of cell phone do you have? ',\n",
      "       'What is the last thing you ate?',\n",
      "       'Which of these words do you know the meaning of?',\n",
      "       'Please type \"cat\" here', 'Do you usually remember your dreams? ',\n",
      "       'Do you have strong opinions about text editors?',\n",
      "       'How do you feel about emoji?', 'Does it ever snow where you live? ',\n",
      "       'Do you strongly dislike the taste or texture of any of these things? ',\n",
      "       'Which of these do you regularly drink', 'Type five random words',\n",
      "       'Are you nervous about flying? ',\n",
      "       'On a scale of 1 to 5, which number is your favorite? ',\n",
      "       'Which of these would you consider a sandwich?',\n",
      "       'Which of these describes you?',\n",
      "       'Would you say you have a good sense of direction? ',\n",
      "       'Have you ever thrown out all your different pairs of socks/underwear, bought a bunch of replacements that were all one kind, and then told all your friends how great it was and how they should do it too? '],\n",
      "      dtype='object')\n"
     ]
    }
   ],
   "source": [
    "import numpy as np\n",
    "import pandas as pd\n",
    "data_frame = pd.read_csv('dreams.csv')\n",
    "print(data_frame.keys())\n",
    "#print(data_frame.head(10))\n",
    "\n",
    "data_frame['Do you usually remember your dreams? '].fillna('No', inplace=True)\n",
    "data_frame['Do you feel sleepy a lot? '].fillna('No', inplace=True)\n",
    "data_frame['Do you regularly stay awake much later than you meant to? '].fillna('No', inplace=True)\n",
    "\n",
    "#data_frame = data_frame.rename(columns={'Do you usually remember your dreams? ': 'target'})\n",
    "#print(data_frame.target)\n",
    "#dream_df = pd.DataFrame(data_frame.data, columns = data_frame.feature_names)\n",
    "#dream_df['Do you feel sleepy a lot? '] = dream_df.target\n"
   ]
  },
  {
   "cell_type": "code",
   "execution_count": 23,
   "metadata": {},
   "outputs": [
    {
     "name": "stdout",
     "output_type": "stream",
     "text": [
      "count    467.0\n",
      "mean       1.0\n",
      "std        0.0\n",
      "min        1.0\n",
      "25%        1.0\n",
      "50%        1.0\n",
      "75%        1.0\n",
      "max        1.0\n",
      "Name: Do you regularly stay awake much later than you meant to? , dtype: float64\n"
     ]
    }
   ],
   "source": [
    "# importing one hot encoder from sklearn \n",
    "from sklearn.preprocessing import OneHotEncoder \n",
    "from sklearn.compose import ColumnTransformer\n",
    "\n",
    "\n",
    "data_frame['Do you usually remember your dreams? '] = np.where(data_frame['Do you usually remember your dreams? '] == 'No', 0, 1)\n",
    "data_frame['Do you feel sleepy a lot? '] = np.where(data_frame['Do you feel sleepy a lot? '] == 'No', 0, 1)\n",
    "data_frame['Do you regularly stay awake much later than you meant to? '] = np.where(data_frame['Do you regularly stay awake much later than you meant to? '] == 'No', 0, 1)\n",
    "print(data_frame['Do you regularly stay awake much later than you meant to? '].describe())"
   ]
  },
  {
   "cell_type": "code",
   "execution_count": 4,
   "metadata": {},
   "outputs": [],
   "source": [
    "from sklearn.model_selection import StratifiedShuffleSplit\n",
    "from sklearn.model_selection import train_test_split\n",
    "\n",
    "splitter = StratifiedShuffleSplit(n_splits = 1, test_size=0.20, random_state=123)\n",
    "\n",
    "for train_in, test_in in splitter.split(data_frame, data_frame['Do you usually remember your dreams? ']):\n",
    "    train_set= data_frame.iloc[train_in]\n",
    "    test_set=data_frame.iloc[test_in]\n",
    "\n",
    "\n",
    "#print(data_frame['Do you feel sleepy a lot? '].describe())\n",
    "#data_frame['Do you feel sleepy a lot? '].dropna('')\n",
    "#data_frame['Do you feel sleepy a lot? '] = data_frame.target\n",
    "#data_frame\n",
    "\n",
    "#for train_in, test_in in splitter.split(data_frame, data_frame.target):\n",
    "#    train_set = data_frame.iloc[train_in]\n",
    "#    test_set = data_frame.iloc[test_in]\n",
    "    \n",
    "#train_set, test_set = train_test_split(data_frame, test_size=0.2, stratify = ['Do you usually remember your dreams? '] )\n",
    "#print(train_set.target.describe())\n",
    "#print(test_set.target.describe())\n",
    "\n",
    "#insufficient = [1,2,17,18,21,22,25,26,27,34,38,42,56]\n",
    "#selected = data_frame['Do you feel sleepy a lot? ']\n",
    "#keep = [d not in insufficient for d in data_frame['Do you feel sleepy a lot? ']]\n",
    "#df = data_frame[keep]\n",
    "#df.dropna(axis='columns')\n",
    "#for train_in, test_in in splitter.split(df, df['Do you feel sleepy a lot? ']):    \n",
    "#    train_set = df.iloc[train_in]   \n",
    "#    test_set = df.iloc[test_in]"
   ]
  },
  {
   "cell_type": "markdown",
   "metadata": {},
   "source": [
    "## Creating or modifying the data\n",
    "\n",
    "### Example:\n",
    "\n",
    "slickle_in = []\n",
    "\n",
    "for s in data['Which of these words do you know the meaning of?']:\n",
    "\n",
    "        if isinstance(s, str):\n",
    "        \n",
    "            slickle_in.append('Slickle' in s)\n",
    "            \n",
    "        else:\n",
    "        \n",
    "            slickle_in.append(False)\n",
    "            \n",
    "data['slickle_meaning'] = slickle_in"
   ]
  },
  {
   "cell_type": "code",
   "execution_count": 18,
   "metadata": {},
   "outputs": [
    {
     "name": "stdout",
     "output_type": "stream",
     "text": [
      "vale of F1 score is 0.6300268096514745\n",
      "Vale of Accuracy is 0.6300268096514745\n"
     ]
    },
    {
     "data": {
      "text/plain": [
       "\"\\nsvmclassifier=SVC(kernel='linear')\\nsvmclassifier.fit(x,y) \\npredic= svmclassifier.predict(x)\\nprint('vale of F1 score is', f1_score(y,predic, average='micro'))\\nprint('Vale of Accuracy is', accuracy_score(y,predic))\\n\""
      ]
     },
     "execution_count": 18,
     "metadata": {},
     "output_type": "execute_result"
    }
   ],
   "source": [
    "### Training set\n",
    "from sklearn.tree import DecisionTreeClassifier\n",
    "from sklearn.metrics import f1_score, accuracy_score\n",
    "from sklearn.metrics import confusion_matrix\n",
    "\n",
    "x=train_set[['Do you feel sleepy a lot? ','Do you regularly stay awake much later than you meant to? ']]\n",
    "y=train_set[['Do you usually remember your dreams? ']]\n",
    "\n",
    "decision_tree = DecisionTreeClassifier()\n",
    "decision_tree.fit(x,y)\n",
    "\n",
    "y_pred = decision_tree.predict(x)\n",
    "matrix = confusion_matrix(y, y_pred)\n",
    "\n",
    "print('vale of F1 score is', f1_score(y,y_pred, average='micro'))\n",
    "print('Vale of Accuracy is', accuracy_score(y,y_pred))\n"
   ]
  },
  {
   "cell_type": "code",
   "execution_count": 19,
   "metadata": {},
   "outputs": [
    {
     "name": "stdout",
     "output_type": "stream",
     "text": [
      "vale of F1 score is 0.6276595744680851\n",
      "Vale of Accuracy is 0.6276595744680851\n"
     ]
    },
    {
     "data": {
      "text/plain": [
       "\"\\nsvmclassifier=SVC(kernel='linear')\\nsvmclassifier.fit(g,h) \\npredic= svmclassifier.predict(g)\\nprint('vale of F1 score is', f1_score(h,predic, average='micro'))\\nprint('Vale of Accuracy is', accuracy_score(h,predic))\\n\""
      ]
     },
     "execution_count": 19,
     "metadata": {},
     "output_type": "execute_result"
    }
   ],
   "source": [
    "### Testing set\n",
    "from sklearn.tree import DecisionTreeClassifier\n",
    "from sklearn.metrics import f1_score, accuracy_score\n",
    "from sklearn.metrics import confusion_matrix\n",
    "\n",
    "X=test_set[['Do you feel sleepy a lot? ','Do you regularly stay awake much later than you meant to? ']]\n",
    "Y=test_set[['Do you usually remember your dreams? ']]\n",
    "\n",
    "decision_tree = DecisionTreeClassifier()\n",
    "decision_tree.fit(X,Y)\n",
    "\n",
    "y_pred = decision_tree.predict(X)\n",
    "matrix = confusion_matrix(Y, y_pred)\n",
    "\n",
    "print('vale of F1 score is', f1_score(Y,y_pred, average='micro'))\n",
    "print('Vale of Accuracy is', accuracy_score(Y,y_pred))\n"
   ]
  },
  {
   "cell_type": "code",
   "execution_count": 20,
   "metadata": {},
   "outputs": [
    {
     "data": {
      "image/png": "[encoded data removed]",
      "text/plain": [
       "<Figure size 720x216 with 1 Axes>"
      ]
     },
     "metadata": {
      "needs_background": "light"
     },
     "output_type": "display_data"
    }
   ],
   "source": [
    "import matplotlib.pyplot as plt\n",
    "import seaborn as sns\n",
    "\n",
    "plt.figure(figsize=(10,3))\n",
    "sns.countplot(x='Do you feel sleepy a lot? ', data = data_frame,hue = 'Do you usually remember your dreams? ') \n",
    "plt.show()"
   ]
  },
  {
   "cell_type": "code",
   "execution_count": 21,
   "metadata": {},
   "outputs": [
    {
     "data": {
      "image/png": "[encoded data removed]",
      "text/plain": [
       "<Figure size 720x216 with 1 Axes>"
      ]
     },
     "metadata": {
      "needs_background": "light"
     },
     "output_type": "display_data"
    }
   ],
   "source": [
    "import matplotlib.pyplot as plt\n",
    "import seaborn as sns\n",
    "\n",
    "plt.figure(figsize=(10,3))\n",
    "sns.countplot(x='Do you regularly stay awake much later than you meant to? ', data = data_frame,hue = 'Do you usually remember your dreams? ') \n",
    "plt.show()"
   ]
  },
  {
   "cell_type": "code",
   "execution_count": null,
   "metadata": {},
   "outputs": [],
   "source": []
  }
 ],
 "metadata": {
  "kernelspec": {
   "display_name": "Python 3",
   "language": "python",
   "name": "python3"
  },
  "language_info": {
   "codemirror_mode": {
    "name": "ipython",
    "version": 3
   },
   "file_extension": ".py",
   "mimetype": "text/x-python",
   "name": "python",
   "nbconvert_exporter": "python",
   "pygments_lexer": "ipython3",
   "version": "3.7.6"
  }
 },
 "nbformat": 4,
 "nbformat_minor": 4
}
